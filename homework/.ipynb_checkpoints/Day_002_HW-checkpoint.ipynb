{
 "cells": [
  {
   "cell_type": "markdown",
   "metadata": {},
   "source": [
    "## [作業目標]\n",
    "了解機器學習適合應用的領域與範疇。"
   ]
  },
  {
   "cell_type": "markdown",
   "metadata": {},
   "source": [
    "## [作業重點]\n",
    "透過瞭解機器學習的運作方式，找出非常適用機器學習應用的領域及其原因"
   ]
  },
  {
   "cell_type": "markdown",
   "metadata": {},
   "source": [
    "## 作業\n",
    "請找出一個你認為機器學習可以發光發熱的領域並闡述原因? "
   ]
  },
  {
   "cell_type": "markdown",
   "metadata": {},
   "source": [
    "### [回答]\n",
    "\n",
    "#### 領域：藥物研發\n",
    "\n",
    "藥物研發的成功率只有1%，表示比需投入非常多金錢與精力才有辦法研發出一款符合醫用標準的藥物。藉由機器學習的幫助，能夠幫助研究團隊在過往的研究數據中，從成功與失敗的數據來幫助預測可能有效的化合物結構，使研究團隊能更快找到可能有效的藥物，提高研發的成功率，並加速藥物研發的製程。尤其在面對像是武漢肺炎一般的突發疾病，更需要快速有效的藥物研發，機器學習想必是個非常有用的工具。"
   ]
  },
  {
   "cell_type": "code",
   "execution_count": null,
   "metadata": {},
   "outputs": [],
   "source": []
  }
 ],
 "metadata": {
  "kernelspec": {
   "display_name": "Python 3",
   "language": "python",
   "name": "python3"
  },
  "language_info": {
   "codemirror_mode": {
    "name": "ipython",
    "version": 3
   },
   "file_extension": ".py",
   "mimetype": "text/x-python",
   "name": "python",
   "nbconvert_exporter": "python",
   "pygments_lexer": "ipython3",
   "version": "3.7.1"
  }
 },
 "nbformat": 4,
 "nbformat_minor": 2
}
