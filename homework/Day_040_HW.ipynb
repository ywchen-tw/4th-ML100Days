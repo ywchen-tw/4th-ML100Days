{
 "cells": [
  {
   "cell_type": "markdown",
   "metadata": {},
   "source": [
    "## [作業重點]\n",
    "使用 Sklearn 中的 Lasso, Ridge 模型，來訓練各種資料集，務必了解送進去模型訓練的**資料型態**為何，也請了解模型中各項參數的意義。\n",
    "\n",
    "機器學習的模型非常多種，但要訓練的資料多半有固定的格式，確保你了解訓練資料的格式為何，這樣在應用新模型時，就能夠最快的上手開始訓練！"
   ]
  },
  {
   "cell_type": "markdown",
   "metadata": {},
   "source": [
    "## 練習時間\n",
    "試著使用 sklearn datasets 的其他資料集 (boston, ...)，來訓練自己的線性迴歸模型，並加上適當的正則化來觀察訓練情形。"
   ]
  },
  {
   "cell_type": "code",
   "execution_count": 1,
   "metadata": {},
   "outputs": [],
   "source": [
    "import numpy as np\n",
    "import matplotlib.pyplot as plt\n",
    "from sklearn import datasets, linear_model\n",
    "from sklearn.model_selection import train_test_split\n",
    "from sklearn.metrics import mean_squared_error, r2_score"
   ]
  },
  {
   "cell_type": "code",
   "execution_count": 4,
   "metadata": {},
   "outputs": [],
   "source": [
    "boston = datasets.load_boston()\n",
    "x_train, x_test, y_train, y_test = train_test_split(boston.data, boston.target, test_size=0.3, random_state=59)"
   ]
  },
  {
   "cell_type": "code",
   "execution_count": 5,
   "metadata": {},
   "outputs": [
    {
     "name": "stdout",
     "output_type": "stream",
     "text": [
      "[-1.07528559e-01  6.18632352e-02  2.71624219e-02  2.07149628e+00\n",
      " -1.67179869e+01  3.93824327e+00  6.05052067e-03 -1.54484956e+00\n",
      "  2.67399460e-01 -1.25401514e-02 -9.70533753e-01  1.04904617e-02\n",
      " -4.73591129e-01]\n",
      "Mean squared error: 29.18\n"
     ]
    }
   ],
   "source": [
    "linear_reg = linear_model.LinearRegression()\n",
    "linear_reg.fit(x_train, y_train)\n",
    "y_pred = linear_reg.predict(x_test)\n",
    "print(linear_reg.coef_)\n",
    "print(\"Mean squared error: %.2f\"\n",
    "      % mean_squared_error(y_test, y_pred))"
   ]
  },
  {
   "cell_type": "code",
   "execution_count": 25,
   "metadata": {},
   "outputs": [
    {
     "name": "stdout",
     "output_type": "stream",
     "text": [
      "[-0.09853221  0.06247678 -0.02092882  0.32061828 -0.          3.8437336\n",
      " -0.00564097 -1.24896031  0.2302373  -0.01411926 -0.80257687  0.01106385\n",
      " -0.52954624]\n",
      "Mean squared error: 30.77\n"
     ]
    }
   ],
   "source": [
    "LASSO_reg = linear_model.Lasso(alpha=0.1)\n",
    "LASSO_reg.fit(x_train, y_train)\n",
    "y_pred_LASSO = LASSO_reg.predict(x_test)\n",
    "print(LASSO_reg.coef_)\n",
    "print(\"Mean squared error: %.2f\"\n",
    "      % mean_squared_error(y_test, y_pred_LASSO))"
   ]
  },
  {
   "cell_type": "code",
   "execution_count": 26,
   "metadata": {},
   "outputs": [
    {
     "name": "stdout",
     "output_type": "stream",
     "text": [
      "[-0.09853221  0.06247678 -0.02092882  0.32061828 -0.          3.8437336\n",
      " -0.00564097 -1.24896031  0.2302373  -0.01411926 -0.80257687  0.01106385\n",
      " -0.52954624]\n",
      "Mean squared error: 29.21\n"
     ]
    }
   ],
   "source": [
    "Ridge_reg = linear_model.Ridge(alpha=0.1)\n",
    "Ridge_reg.fit(x_train, y_train)\n",
    "y_pred_Ridge = Ridge_reg.predict(x_test)\n",
    "print(LASSO_reg.coef_)\n",
    "print(\"Mean squared error: %.2f\"\n",
    "      % mean_squared_error(y_test, y_pred_Ridge))"
   ]
  },
  {
   "cell_type": "code",
   "execution_count": null,
   "metadata": {},
   "outputs": [],
   "source": []
  }
 ],
 "metadata": {
  "kernelspec": {
   "display_name": "Python 3",
   "language": "python",
   "name": "python3"
  },
  "language_info": {
   "codemirror_mode": {
    "name": "ipython",
    "version": 3
   },
   "file_extension": ".py",
   "mimetype": "text/x-python",
   "name": "python",
   "nbconvert_exporter": "python",
   "pygments_lexer": "ipython3",
   "version": "3.7.3"
  }
 },
 "nbformat": 4,
 "nbformat_minor": 2
}
