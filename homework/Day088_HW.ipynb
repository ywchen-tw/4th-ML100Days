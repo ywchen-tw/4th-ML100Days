{
 "cells": [
  {
   "cell_type": "markdown",
   "metadata": {},
   "source": [
    "## Work\n",
    "1. 請嘗試寫一個 callback 用來記錄各類別在訓練過程中，對驗證集的 True Positive 與 True Negative"
   ]
  },
  {
   "cell_type": "code",
   "execution_count": 1,
   "metadata": {},
   "outputs": [
    {
     "name": "stderr",
     "output_type": "stream",
     "text": [
      "Using TensorFlow backend.\n"
     ]
    }
   ],
   "source": [
    "import os\n",
    "import keras\n",
    "from keras.layers import BatchNormalization\n",
    "from keras.callbacks import Callback\n",
    "from sklearn.metrics import confusion_matrix\n",
    "import numpy as np\n",
    "\n",
    "# Activate GPU\n",
    "os.environ[\"CUDA_VISIBLE_DEVICES\"] = \"0, 1\""
   ]
  },
  {
   "cell_type": "code",
   "execution_count": 2,
   "metadata": {},
   "outputs": [],
   "source": [
    "train, test = keras.datasets.cifar10.load_data()"
   ]
  },
  {
   "cell_type": "code",
   "execution_count": 3,
   "metadata": {},
   "outputs": [],
   "source": [
    "## 資料前處理\n",
    "def preproc_x(x, flatten=True):\n",
    "    x = x / 255.\n",
    "    if flatten:\n",
    "        x = x.reshape((len(x), -1))\n",
    "    return x\n",
    "\n",
    "def preproc_y(y, num_classes=10):\n",
    "    if y.shape[-1] == 1:\n",
    "        y = keras.utils.to_categorical(y, num_classes)\n",
    "    return y    "
   ]
  },
  {
   "cell_type": "code",
   "execution_count": 4,
   "metadata": {},
   "outputs": [],
   "source": [
    "x_train, y_train = train\n",
    "x_test, y_test = test\n",
    "\n",
    "# Preproc the inputs\n",
    "x_train = preproc_x(x_train)\n",
    "x_test = preproc_x(x_test)\n",
    "\n",
    "# Preprc the outputs\n",
    "y_train = preproc_y(y_train)\n",
    "y_test = preproc_y(y_test)"
   ]
  },
  {
   "cell_type": "code",
   "execution_count": 5,
   "metadata": {},
   "outputs": [],
   "source": [
    "def build_mlp(input_shape, output_units=10, num_neurons=[512, 256, 128]):\n",
    "    input_layer = keras.layers.Input(input_shape)\n",
    "    \n",
    "    for i, n_units in enumerate(num_neurons):\n",
    "        if i == 0:\n",
    "            x = keras.layers.Dense(units=n_units, \n",
    "                                   activation=\"relu\", \n",
    "                                   name=\"hidden_layer\"+str(i+1))(input_layer)\n",
    "            x = BatchNormalization()(x)\n",
    "        else:\n",
    "            x = keras.layers.Dense(units=n_units, \n",
    "                                   activation=\"relu\", \n",
    "                                   name=\"hidden_layer\"+str(i+1))(x)\n",
    "            x = BatchNormalization()(x)\n",
    "    \n",
    "    out = keras.layers.Dense(units=output_units, activation=\"softmax\", name=\"output\")(x)\n",
    "    \n",
    "    model = keras.models.Model(inputs=[input_layer], outputs=[out])\n",
    "    return model"
   ]
  },
  {
   "cell_type": "code",
   "execution_count": 6,
   "metadata": {},
   "outputs": [],
   "source": [
    "## 超參數設定\n",
    "LEARNING_RATE = 1e-3\n",
    "EPOCHS = 25\n",
    "BATCH_SIZE = 1024\n",
    "MOMENTUM = 0.95"
   ]
  },
  {
   "cell_type": "code",
   "execution_count": 7,
   "metadata": {},
   "outputs": [],
   "source": [
    "# Record_fp_tp\n",
    "class Record_tp_tn(Callback):\n",
    "    def on_train_begin(self, epoch, logs = {}):\n",
    "        logs = logs or {}\n",
    "        record_items = [\"val_auc\", \"val_f1sc\", \"val_fp\", \"val_fn\", \"val_tp\", \"val_tn\"]\n",
    "        for i in record_items:\n",
    "            if i not in self.params['metrics']:\n",
    "                self.params['metrics'].append(i)\n",
    "    \n",
    "    def on_epoch_end(self, epoch, logs = {}, thres=0.5):\n",
    "        logs = logs or {}\n",
    "        y_true = self.validation_data[1].argmax(axis = 1)\n",
    "        y_pred = self.model.predict(self.validation_data[0])\n",
    "        y_pred = (y_pred[:, 1] >= thres) * 1\n",
    "        \n",
    "        CM = confusion_matrix(y_true, y_pred)\n",
    "        #print(CM)\n",
    "        FP = CM.sum(axis=0) - np.diag(CM)  \n",
    "        FN = CM.sum(axis=1) - np.diag(CM)\n",
    "        TP = np.diag(CM)\n",
    "        TN = CM.sum() - (FP + FN + TP)\n",
    "        logs[\"val_tp\"] = TP\n",
    "        logs[\"val_tn\"] = TN\n",
    "        \n",
    "rec_tptn = Record_tp_tn()"
   ]
  },
  {
   "cell_type": "code",
   "execution_count": 8,
   "metadata": {
    "scrolled": true
   },
   "outputs": [
    {
     "name": "stdout",
     "output_type": "stream",
     "text": [
      "Model: \"model_1\"\n",
      "_________________________________________________________________\n",
      "Layer (type)                 Output Shape              Param #   \n",
      "=================================================================\n",
      "input_1 (InputLayer)         (None, 3072)              0         \n",
      "_________________________________________________________________\n",
      "hidden_layer1 (Dense)        (None, 512)               1573376   \n",
      "_________________________________________________________________\n",
      "batch_normalization_1 (Batch (None, 512)               2048      \n",
      "_________________________________________________________________\n",
      "hidden_layer2 (Dense)        (None, 256)               131328    \n",
      "_________________________________________________________________\n",
      "batch_normalization_2 (Batch (None, 256)               1024      \n",
      "_________________________________________________________________\n",
      "hidden_layer3 (Dense)        (None, 128)               32896     \n",
      "_________________________________________________________________\n",
      "batch_normalization_3 (Batch (None, 128)               512       \n",
      "_________________________________________________________________\n",
      "output (Dense)               (None, 10)                1290      \n",
      "=================================================================\n",
      "Total params: 1,742,474\n",
      "Trainable params: 1,740,682\n",
      "Non-trainable params: 1,792\n",
      "_________________________________________________________________\n",
      "Train on 50000 samples, validate on 10000 samples\n",
      "Epoch 1/25\n",
      "50000/50000 [==============================] - 2s 37us/step - loss: 2.2471 - accuracy: 0.2656 - val_loss: 2.1660 - val_accuracy: 0.1449\n",
      "Epoch 2/25\n",
      "50000/50000 [==============================] - 1s 26us/step - loss: 1.7603 - accuracy: 0.3904 - val_loss: 2.0171 - val_accuracy: 0.2560\n",
      "Epoch 3/25\n",
      "50000/50000 [==============================] - 1s 25us/step - loss: 1.6281 - accuracy: 0.4309 - val_loss: 1.8621 - val_accuracy: 0.3487\n",
      "Epoch 4/25\n",
      "50000/50000 [==============================] - 1s 26us/step - loss: 1.5519 - accuracy: 0.4580 - val_loss: 1.7217 - val_accuracy: 0.4121\n",
      "Epoch 5/25\n",
      "50000/50000 [==============================] - 1s 26us/step - loss: 1.4970 - accuracy: 0.4760 - val_loss: 1.6526 - val_accuracy: 0.4286\n",
      "Epoch 6/25\n",
      "50000/50000 [==============================] - 1s 26us/step - loss: 1.4526 - accuracy: 0.4930 - val_loss: 1.5997 - val_accuracy: 0.4452\n",
      "Epoch 7/25\n",
      "50000/50000 [==============================] - 1s 25us/step - loss: 1.4134 - accuracy: 0.5075 - val_loss: 1.5596 - val_accuracy: 0.4572\n",
      "Epoch 8/25\n",
      "50000/50000 [==============================] - 1s 26us/step - loss: 1.3778 - accuracy: 0.5202 - val_loss: 1.5289 - val_accuracy: 0.4669\n",
      "Epoch 9/25\n",
      "50000/50000 [==============================] - 1s 26us/step - loss: 1.3447 - accuracy: 0.5340 - val_loss: 1.5190 - val_accuracy: 0.4647\n",
      "Epoch 10/25\n",
      "50000/50000 [==============================] - 1s 25us/step - loss: 1.3163 - accuracy: 0.5419 - val_loss: 1.5038 - val_accuracy: 0.4711\n",
      "Epoch 11/25\n",
      "50000/50000 [==============================] - 1s 26us/step - loss: 1.2877 - accuracy: 0.5536 - val_loss: 1.4945 - val_accuracy: 0.4752\n",
      "Epoch 12/25\n",
      "50000/50000 [==============================] - 1s 26us/step - loss: 1.2592 - accuracy: 0.5635 - val_loss: 1.4951 - val_accuracy: 0.4741\n",
      "Epoch 13/25\n",
      "50000/50000 [==============================] - 1s 26us/step - loss: 1.2319 - accuracy: 0.5719 - val_loss: 1.4812 - val_accuracy: 0.4775\n",
      "Epoch 14/25\n",
      "50000/50000 [==============================] - 1s 27us/step - loss: 1.2061 - accuracy: 0.5835 - val_loss: 1.4790 - val_accuracy: 0.4826\n",
      "Epoch 15/25\n",
      "50000/50000 [==============================] - 1s 25us/step - loss: 1.1823 - accuracy: 0.5935 - val_loss: 1.4832 - val_accuracy: 0.4804\n",
      "Epoch 16/25\n",
      "50000/50000 [==============================] - 1s 25us/step - loss: 1.1591 - accuracy: 0.6012 - val_loss: 1.4691 - val_accuracy: 0.4824\n",
      "Epoch 17/25\n",
      "50000/50000 [==============================] - 1s 26us/step - loss: 1.1362 - accuracy: 0.6098 - val_loss: 1.4638 - val_accuracy: 0.4866\n",
      "Epoch 18/25\n",
      "50000/50000 [==============================] - 1s 26us/step - loss: 1.1127 - accuracy: 0.6177 - val_loss: 1.4647 - val_accuracy: 0.4875\n",
      "Epoch 19/25\n",
      "50000/50000 [==============================] - 1s 26us/step - loss: 1.0902 - accuracy: 0.6271 - val_loss: 1.4680 - val_accuracy: 0.4885\n",
      "Epoch 20/25\n",
      "50000/50000 [==============================] - 1s 25us/step - loss: 1.0701 - accuracy: 0.6344 - val_loss: 1.4628 - val_accuracy: 0.4905\n",
      "Epoch 21/25\n",
      "50000/50000 [==============================] - 1s 26us/step - loss: 1.0477 - accuracy: 0.6430 - val_loss: 1.4547 - val_accuracy: 0.4918\n",
      "Epoch 22/25\n",
      "50000/50000 [==============================] - 1s 26us/step - loss: 1.0262 - accuracy: 0.6514 - val_loss: 1.4648 - val_accuracy: 0.4953\n",
      "Epoch 23/25\n",
      "50000/50000 [==============================] - 1s 26us/step - loss: 1.0042 - accuracy: 0.6612 - val_loss: 1.4801 - val_accuracy: 0.4895\n",
      "Epoch 24/25\n",
      "50000/50000 [==============================] - 1s 26us/step - loss: 0.9857 - accuracy: 0.6664 - val_loss: 1.4641 - val_accuracy: 0.4923\n",
      "Epoch 25/25\n",
      "50000/50000 [==============================] - 1s 25us/step - loss: 0.9641 - accuracy: 0.6758 - val_loss: 1.4641 - val_accuracy: 0.4924\n"
     ]
    }
   ],
   "source": [
    "model = build_mlp(input_shape=x_train.shape[1:])\n",
    "model.summary()\n",
    "optimizer = keras.optimizers.SGD(lr=LEARNING_RATE, nesterov=True, momentum=MOMENTUM)\n",
    "model.compile(loss=\"categorical_crossentropy\", metrics=[\"accuracy\"], optimizer=optimizer)\n",
    "\n",
    "\"\"\"Code Here\n",
    "將 callbacks 放入模型訓練流程中\n",
    "\"\"\"\n",
    "model.fit(x_train, y_train, \n",
    "          epochs=EPOCHS, \n",
    "          batch_size=BATCH_SIZE, \n",
    "          validation_data=(x_test, y_test), \n",
    "          shuffle=True,\n",
    "          callbacks=[rec_tptn]\n",
    "         )\n",
    "\n",
    "# Collect results\n",
    "train_loss = model.history.history[\"loss\"]\n",
    "valid_loss = model.history.history[\"val_loss\"]\n",
    "train_acc = model.history.history[\"accuracy\"]\n",
    "valid_acc = model.history.history[\"val_accuracy\"]\n",
    "\n",
    "\"\"\"Code Here\n",
    "將 tp/tn 從訓練完的模型中取出\n",
    "\"\"\"\n",
    "valid_tp = model.history.history['val_tp']\n",
    "valid_tn = model.history.history['val_tn']"
   ]
  },
  {
   "cell_type": "code",
   "execution_count": 9,
   "metadata": {},
   "outputs": [
    {
     "data": {
      "image/png": "[encoded data removed]",
      "text/plain": [
       "<Figure size 432x288 with 1 Axes>"
      ]
     },
     "metadata": {
      "needs_background": "light"
     },
     "output_type": "display_data"
    },
    {
     "data": {
      "image/png": "[encoded data removed]",
      "text/plain": [
       "<Figure size 432x288 with 1 Axes>"
      ]
     },
     "metadata": {
      "needs_background": "light"
     },
     "output_type": "display_data"
    },
    {
     "data": {
      "image/png": "[encoded data removed]",
      "text/plain": [
       "<Figure size 432x288 with 1 Axes>"
      ]
     },
     "metadata": {
      "needs_background": "light"
     },
     "output_type": "display_data"
    }
   ],
   "source": [
    "import matplotlib.pyplot as plt\n",
    "%matplotlib inline\n",
    "\n",
    "plt.plot(range(len(train_loss)), train_loss, label=\"train loss\")\n",
    "plt.plot(range(len(valid_loss)), valid_loss, label=\"valid loss\")\n",
    "plt.legend()\n",
    "plt.title(\"Loss\")\n",
    "plt.show()\n",
    "\n",
    "plt.plot(range(len(train_acc)), train_acc, label=\"train accuracy\")\n",
    "plt.plot(range(len(valid_acc)), valid_acc, label=\"valid accuracy\")\n",
    "plt.legend()\n",
    "plt.title(\"Accuracy\")\n",
    "plt.show()\n",
    "\n",
    "plt.plot(range(len(valid_tp)), valid_tp, label=\"valid tp\", color=\"navy\")\n",
    "plt.plot(range(len(valid_tn)), valid_tn, label=\"valid tn\", color=\"red\")\n",
    "plt.legend()\n",
    "plt.title(\"True positives and True Negatives\")\n",
    "plt.show()\n"
   ]
  },
  {
   "cell_type": "code",
   "execution_count": null,
   "metadata": {},
   "outputs": [],
   "source": []
  }
 ],
 "metadata": {
  "kernelspec": {
   "display_name": "Python 3",
   "language": "python",
   "name": "python3"
  },
  "language_info": {
   "codemirror_mode": {
    "name": "ipython",
    "version": 3
   },
   "file_extension": ".py",
   "mimetype": "text/x-python",
   "name": "python",
   "nbconvert_exporter": "python",
   "pygments_lexer": "ipython3",
   "version": "3.7.3"
  }
 },
 "nbformat": 4,
 "nbformat_minor": 4
}
